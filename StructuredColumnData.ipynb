{
 "cells": [
  {
   "cell_type": "markdown",
   "metadata": {},
   "source": [
    "# TensorFlow Structure Column Data Tutorial"
   ]
  },
  {
   "cell_type": "code",
   "execution_count": 1,
   "metadata": {},
   "outputs": [
    {
     "name": "stdout",
     "output_type": "stream",
     "text": [
      "Requirement already satisfied: sklearn in /Users/adam.wickenden/opt/anaconda3/lib/python3.7/site-packages (0.0)\r\n",
      "Requirement already satisfied: scikit-learn in /Users/adam.wickenden/opt/anaconda3/lib/python3.7/site-packages (from sklearn) (0.23.2)\r\n",
      "Requirement already satisfied: joblib>=0.11 in /Users/adam.wickenden/opt/anaconda3/lib/python3.7/site-packages (from scikit-learn->sklearn) (0.14.1)\r\n",
      "Requirement already satisfied: numpy>=1.13.3 in /Users/adam.wickenden/opt/anaconda3/lib/python3.7/site-packages (from scikit-learn->sklearn) (1.18.4)\r\n",
      "Requirement already satisfied: threadpoolctl>=2.0.0 in /Users/adam.wickenden/opt/anaconda3/lib/python3.7/site-packages (from scikit-learn->sklearn) (2.1.0)\r\n",
      "Requirement already satisfied: scipy>=0.19.1 in /Users/adam.wickenden/opt/anaconda3/lib/python3.7/site-packages (from scikit-learn->sklearn) (1.4.1)\r\n"
     ]
    }
   ],
   "source": [
    "!pip install sklearn\n",
    "\n",
    "import pathlib\n",
    "\n",
    "import numpy as np\n",
    "import pandas as pd\n",
    "\n",
    "import tensorflow as tf\n",
    "\n",
    "from tensorflow import feature_column\n",
    "from tensorflow.keras import layers\n",
    "from sklearn.model_selection import train_test_split"
   ]
  },
  {
   "cell_type": "code",
   "execution_count": 2,
   "metadata": {},
   "outputs": [],
   "source": [
    "# Use pandas to load the Pet CSV DataSet\n",
    "url = 'http://storage.googleapis.com/download.tensorflow.org/data/petfinder-mini.zip'\n",
    "csv = './data/datasets/petfinder-mini/petfinder-mini.csv'\n",
    "\n",
    "tf.keras.utils.get_file('petfinder_mini.zip', url, extract=True, cache_dir='./data')\n",
    "\n",
    "df = pd.read_csv(csv)"
   ]
  },
  {
   "cell_type": "code",
   "execution_count": 3,
   "metadata": {},
   "outputs": [
    {
     "data": {
      "text/html": [
       "<div>\n",
       "<style scoped>\n",
       "    .dataframe tbody tr th:only-of-type {\n",
       "        vertical-align: middle;\n",
       "    }\n",
       "\n",
       "    .dataframe tbody tr th {\n",
       "        vertical-align: top;\n",
       "    }\n",
       "\n",
       "    .dataframe thead th {\n",
       "        text-align: right;\n",
       "    }\n",
       "</style>\n",
       "<table border=\"1\" class=\"dataframe\">\n",
       "  <thead>\n",
       "    <tr style=\"text-align: right;\">\n",
       "      <th></th>\n",
       "      <th>Type</th>\n",
       "      <th>Age</th>\n",
       "      <th>Breed1</th>\n",
       "      <th>Gender</th>\n",
       "      <th>Color1</th>\n",
       "      <th>Color2</th>\n",
       "      <th>MaturitySize</th>\n",
       "      <th>FurLength</th>\n",
       "      <th>Vaccinated</th>\n",
       "      <th>Sterilized</th>\n",
       "      <th>Health</th>\n",
       "      <th>Fee</th>\n",
       "      <th>Description</th>\n",
       "      <th>PhotoAmt</th>\n",
       "      <th>AdoptionSpeed</th>\n",
       "    </tr>\n",
       "  </thead>\n",
       "  <tbody>\n",
       "    <tr>\n",
       "      <th>0</th>\n",
       "      <td>Cat</td>\n",
       "      <td>3</td>\n",
       "      <td>Tabby</td>\n",
       "      <td>Male</td>\n",
       "      <td>Black</td>\n",
       "      <td>White</td>\n",
       "      <td>Small</td>\n",
       "      <td>Short</td>\n",
       "      <td>No</td>\n",
       "      <td>No</td>\n",
       "      <td>Healthy</td>\n",
       "      <td>100</td>\n",
       "      <td>Nibble is a 3+ month old ball of cuteness. He ...</td>\n",
       "      <td>1</td>\n",
       "      <td>2</td>\n",
       "    </tr>\n",
       "    <tr>\n",
       "      <th>1</th>\n",
       "      <td>Cat</td>\n",
       "      <td>1</td>\n",
       "      <td>Domestic Medium Hair</td>\n",
       "      <td>Male</td>\n",
       "      <td>Black</td>\n",
       "      <td>Brown</td>\n",
       "      <td>Medium</td>\n",
       "      <td>Medium</td>\n",
       "      <td>Not Sure</td>\n",
       "      <td>Not Sure</td>\n",
       "      <td>Healthy</td>\n",
       "      <td>0</td>\n",
       "      <td>I just found it alone yesterday near my apartm...</td>\n",
       "      <td>2</td>\n",
       "      <td>0</td>\n",
       "    </tr>\n",
       "    <tr>\n",
       "      <th>2</th>\n",
       "      <td>Dog</td>\n",
       "      <td>1</td>\n",
       "      <td>Mixed Breed</td>\n",
       "      <td>Male</td>\n",
       "      <td>Brown</td>\n",
       "      <td>White</td>\n",
       "      <td>Medium</td>\n",
       "      <td>Medium</td>\n",
       "      <td>Yes</td>\n",
       "      <td>No</td>\n",
       "      <td>Healthy</td>\n",
       "      <td>0</td>\n",
       "      <td>Their pregnant mother was dumped by her irresp...</td>\n",
       "      <td>7</td>\n",
       "      <td>3</td>\n",
       "    </tr>\n",
       "    <tr>\n",
       "      <th>3</th>\n",
       "      <td>Dog</td>\n",
       "      <td>4</td>\n",
       "      <td>Mixed Breed</td>\n",
       "      <td>Female</td>\n",
       "      <td>Black</td>\n",
       "      <td>Brown</td>\n",
       "      <td>Medium</td>\n",
       "      <td>Short</td>\n",
       "      <td>Yes</td>\n",
       "      <td>No</td>\n",
       "      <td>Healthy</td>\n",
       "      <td>150</td>\n",
       "      <td>Good guard dog, very alert, active, obedience ...</td>\n",
       "      <td>8</td>\n",
       "      <td>2</td>\n",
       "    </tr>\n",
       "    <tr>\n",
       "      <th>4</th>\n",
       "      <td>Dog</td>\n",
       "      <td>1</td>\n",
       "      <td>Mixed Breed</td>\n",
       "      <td>Male</td>\n",
       "      <td>Black</td>\n",
       "      <td>No Color</td>\n",
       "      <td>Medium</td>\n",
       "      <td>Short</td>\n",
       "      <td>No</td>\n",
       "      <td>No</td>\n",
       "      <td>Healthy</td>\n",
       "      <td>0</td>\n",
       "      <td>This handsome yet cute boy is up for adoption....</td>\n",
       "      <td>3</td>\n",
       "      <td>2</td>\n",
       "    </tr>\n",
       "  </tbody>\n",
       "</table>\n",
       "</div>"
      ],
      "text/plain": [
       "  Type  Age                Breed1  Gender Color1    Color2 MaturitySize  \\\n",
       "0  Cat    3                 Tabby    Male  Black     White        Small   \n",
       "1  Cat    1  Domestic Medium Hair    Male  Black     Brown       Medium   \n",
       "2  Dog    1           Mixed Breed    Male  Brown     White       Medium   \n",
       "3  Dog    4           Mixed Breed  Female  Black     Brown       Medium   \n",
       "4  Dog    1           Mixed Breed    Male  Black  No Color       Medium   \n",
       "\n",
       "  FurLength Vaccinated Sterilized   Health  Fee  \\\n",
       "0     Short         No         No  Healthy  100   \n",
       "1    Medium   Not Sure   Not Sure  Healthy    0   \n",
       "2    Medium        Yes         No  Healthy    0   \n",
       "3     Short        Yes         No  Healthy  150   \n",
       "4     Short         No         No  Healthy    0   \n",
       "\n",
       "                                         Description  PhotoAmt  AdoptionSpeed  \n",
       "0  Nibble is a 3+ month old ball of cuteness. He ...         1              2  \n",
       "1  I just found it alone yesterday near my apartm...         2              0  \n",
       "2  Their pregnant mother was dumped by her irresp...         7              3  \n",
       "3  Good guard dog, very alert, active, obedience ...         8              2  \n",
       "4  This handsome yet cute boy is up for adoption....         3              2  "
      ]
     },
     "execution_count": 3,
     "metadata": {},
     "output_type": "execute_result"
    }
   ],
   "source": [
    "# We can see that we have lots of categorical columns (Breed/Gender etc), some numerical columns (fee/age)\n",
    "# and some useless test columns (Description).\n",
    "# The labels we are trying to predict are the Adoption Speed\n",
    "# TUTORIAL WANTS TO CONVERT TO BINARY CLASSIFICATION BUT GOING TO KEEP IT AS MULTI FOR A CHALLENGE\n",
    "df.head(5)"
   ]
  },
  {
   "cell_type": "code",
   "execution_count": 4,
   "metadata": {},
   "outputs": [],
   "source": [
    "# Drop unneeded columns\n",
    "df = df.drop('Description', axis=1)\n",
    "df['AdoptionSpeed'] = np.where(df['AdoptionSpeed']==4, 0, 1)"
   ]
  },
  {
   "cell_type": "code",
   "execution_count": 5,
   "metadata": {},
   "outputs": [
    {
     "name": "stdout",
     "output_type": "stream",
     "text": [
      "train: 7383 \n",
      "val: 1846 \n",
      "test: 2308\n"
     ]
    }
   ],
   "source": [
    "# Split the Dataset\n",
    "train, test = train_test_split(df, test_size=0.2)\n",
    "train, val = train_test_split(train, test_size=0.2)\n",
    "print(f'train: {len(train)} \\nval: {len(val)} \\ntest: {len(test)}')"
   ]
  },
  {
   "cell_type": "code",
   "execution_count": 6,
   "metadata": {},
   "outputs": [],
   "source": [
    "# Input pipeline --> Convert DF to tf.data batches\n",
    "def df_to_dataset(df, shuffle=True, batch_size=32):\n",
    "    df = df.copy()\n",
    "    labels = df.pop('AdoptionSpeed') # Pop labels from dataframe\n",
    "    ds = tf.data.Dataset.from_tensor_slices((dict(df), labels)) # Supply a (features, labels) tuple to dataset\n",
    "    if shuffle:\n",
    "        ds = ds.shuffle(buffer_size=len(df))\n",
    "    ds = ds.batch(batch_size)\n",
    "    return ds\n",
    "\n",
    "train_ds = df_to_dataset(train)\n",
    "val_ds = df_to_dataset(val, shuffle=False)\n",
    "test_ds = df_to_dataset(test, shuffle=False)"
   ]
  },
  {
   "cell_type": "code",
   "execution_count": 7,
   "metadata": {},
   "outputs": [
    {
     "name": "stdout",
     "output_type": "stream",
     "text": [
      "Feature Keys: ['Type', 'Age', 'Breed1', 'Gender', 'Color1', 'Color2', 'MaturitySize', 'FurLength', 'Vaccinated', 'Sterilized', 'Health', 'Fee', 'PhotoAmt']\n",
      "Ages: [36 72  6  2  2  5 22  1  2  3  3  2 72  2 14  2  4 24  2  1  4  1  1  1\n",
      "  2  2  3  8  9  3  5  2]\n",
      "Adoption Speeds: [1 1 0 1 1 0 1 1 1 1 1 1 0 1 0 1 1 0 1 1 1 1 0 1 1 1 1 1 0 0 0 1]\n"
     ]
    }
   ],
   "source": [
    "# Test input pipeline\n",
    "for feature_b, label_b in train_ds.take(1):\n",
    "    print(f'Feature Keys: {list(feature_b.keys())}')\n",
    "    print(f'Ages: {feature_b[\"Age\"]}')\n",
    "    print(f'Adoption Speeds: {label_b}')"
   ]
  },
  {
   "cell_type": "markdown",
   "metadata": {},
   "source": [
    "### Generate Different Feature Column Types"
   ]
  },
  {
   "cell_type": "code",
   "execution_count": 8,
   "metadata": {},
   "outputs": [],
   "source": [
    "example_batch = next(iter(train_ds))[0] # Extract a single batch\n",
    "def test_ft(ft_col): # Test function to demonstrate how the different feature columns transform the data\n",
    "    ft_layer = layers.DenseFeatures(ft_col)\n",
    "    print(ft_layer(example_batch).numpy())"
   ]
  },
  {
   "cell_type": "code",
   "execution_count": 9,
   "metadata": {},
   "outputs": [
    {
     "name": "stdout",
     "output_type": "stream",
     "text": [
      "[[3.]\n",
      " [3.]\n",
      " [2.]\n",
      " [2.]\n",
      " [5.]\n",
      " [4.]\n",
      " [5.]\n",
      " [2.]\n",
      " [3.]\n",
      " [1.]\n",
      " [2.]\n",
      " [1.]\n",
      " [3.]\n",
      " [3.]\n",
      " [4.]\n",
      " [2.]\n",
      " [0.]\n",
      " [2.]\n",
      " [3.]\n",
      " [3.]\n",
      " [7.]\n",
      " [0.]\n",
      " [4.]\n",
      " [1.]\n",
      " [9.]\n",
      " [3.]\n",
      " [4.]\n",
      " [2.]\n",
      " [5.]\n",
      " [2.]\n",
      " [4.]\n",
      " [5.]]\n"
     ]
    }
   ],
   "source": [
    "# the output of a feature columns becomes the input to the model, our test_ft function will show what each tranform does\n",
    "# The simplest is NUMERIC. This leaves real valued features unchanged, as shown below\n",
    "photo_count = feature_column.numeric_column('PhotoAmt')\n",
    "test_ft(photo_count)"
   ]
  },
  {
   "cell_type": "code",
   "execution_count": 10,
   "metadata": {},
   "outputs": [
    {
     "name": "stdout",
     "output_type": "stream",
     "text": [
      "[[0. 0. 0. 1.]\n",
      " [0. 0. 1. 0.]\n",
      " [0. 0. 0. 1.]\n",
      " [0. 0. 0. 1.]\n",
      " [0. 1. 0. 0.]\n",
      " [0. 0. 0. 1.]\n",
      " [0. 1. 0. 0.]\n",
      " [0. 0. 0. 1.]\n",
      " [0. 1. 0. 0.]\n",
      " [0. 1. 0. 0.]\n",
      " [0. 0. 0. 1.]\n",
      " [0. 0. 1. 0.]\n",
      " [0. 0. 0. 1.]\n",
      " [0. 0. 0. 1.]\n",
      " [0. 0. 0. 1.]\n",
      " [0. 0. 0. 1.]\n",
      " [0. 0. 0. 1.]\n",
      " [0. 0. 1. 0.]\n",
      " [0. 0. 1. 0.]\n",
      " [0. 1. 0. 0.]\n",
      " [0. 1. 0. 0.]\n",
      " [0. 0. 1. 0.]\n",
      " [0. 0. 0. 1.]\n",
      " [0. 1. 0. 0.]\n",
      " [0. 0. 1. 0.]\n",
      " [0. 0. 1. 0.]\n",
      " [0. 0. 0. 1.]\n",
      " [0. 0. 0. 1.]\n",
      " [0. 1. 0. 0.]\n",
      " [0. 0. 0. 1.]\n",
      " [0. 0. 1. 0.]\n",
      " [0. 0. 1. 0.]]\n"
     ]
    }
   ],
   "source": [
    "# We can change continous values into bucketized one-hot columns: Example usage would be age ranges\n",
    "age = feature_column.numeric_column('Age')\n",
    "age_buckets = feature_column.bucketized_column(age, boundaries=[1,3,5])\n",
    "test_ft(age_buckets)"
   ]
  },
  {
   "cell_type": "code",
   "execution_count": 11,
   "metadata": {},
   "outputs": [
    {
     "name": "stdout",
     "output_type": "stream",
     "text": [
      "[[0. 1.]\n",
      " [1. 0.]\n",
      " [1. 0.]\n",
      " [1. 0.]\n",
      " [0. 1.]\n",
      " [0. 1.]\n",
      " [1. 0.]\n",
      " [1. 0.]\n",
      " [1. 0.]\n",
      " [0. 1.]\n",
      " [0. 1.]\n",
      " [0. 1.]\n",
      " [0. 1.]\n",
      " [1. 0.]\n",
      " [1. 0.]\n",
      " [0. 1.]\n",
      " [0. 1.]\n",
      " [0. 1.]\n",
      " [0. 1.]\n",
      " [1. 0.]\n",
      " [1. 0.]\n",
      " [1. 0.]\n",
      " [0. 1.]\n",
      " [0. 1.]\n",
      " [0. 1.]\n",
      " [0. 1.]\n",
      " [0. 1.]\n",
      " [1. 0.]\n",
      " [0. 1.]\n",
      " [1. 0.]\n",
      " [1. 0.]\n",
      " [1. 0.]]\n"
     ]
    }
   ],
   "source": [
    "# In this dataset must columns are Categorical. So we need different ways to represent them\n",
    "# We can convert string categorical columns to one-hot encoding using categorical_column_with_vocabulary_list() \n",
    "# Which does what its name says\n",
    "animal_type = feature_column.categorical_column_with_vocabulary_list('Type', ['Cat', 'Dog']) # Intermediat step\n",
    "animal_type_o_h = feature_column.indicator_column(animal_type) # Must wrap with idicator\n",
    "test_ft(animal_type_o_h)"
   ]
  },
  {
   "cell_type": "code",
   "execution_count": 12,
   "metadata": {},
   "outputs": [
    {
     "name": "stdout",
     "output_type": "stream",
     "text": [
      "[[-0.27472916  0.3568715  -0.50055313 -0.20244935  0.11585673  0.23010774\n",
      "   0.543198   -0.27869853]\n",
      " [-0.5657737   0.12406021 -0.1850852   0.01447107 -0.5924709  -0.5643914\n",
      "  -0.24445656  0.65408033]\n",
      " [ 0.12071966  0.14090234 -0.5428226  -0.29859468 -0.39763734  0.23409088\n",
      "   0.03504107  0.19074157]\n",
      " [-0.5657737   0.12406021 -0.1850852   0.01447107 -0.5924709  -0.5643914\n",
      "  -0.24445656  0.65408033]\n",
      " [-0.43171206  0.07397582  0.33168063  0.16122533  0.01508192  0.35938072\n",
      "  -0.10099246 -0.08821006]\n",
      " [-0.43171206  0.07397582  0.33168063  0.16122533  0.01508192  0.35938072\n",
      "  -0.10099246 -0.08821006]\n",
      " [-0.5657737   0.12406021 -0.1850852   0.01447107 -0.5924709  -0.5643914\n",
      "  -0.24445656  0.65408033]\n",
      " [-0.5657737   0.12406021 -0.1850852   0.01447107 -0.5924709  -0.5643914\n",
      "  -0.24445656  0.65408033]\n",
      " [-0.5657737   0.12406021 -0.1850852   0.01447107 -0.5924709  -0.5643914\n",
      "  -0.24445656  0.65408033]\n",
      " [-0.43171206  0.07397582  0.33168063  0.16122533  0.01508192  0.35938072\n",
      "  -0.10099246 -0.08821006]\n",
      " [ 0.26306653 -0.39402372 -0.06099903 -0.12175759 -0.32476297  0.21029556\n",
      "  -0.06142831 -0.01256341]\n",
      " [-0.43171206  0.07397582  0.33168063  0.16122533  0.01508192  0.35938072\n",
      "  -0.10099246 -0.08821006]\n",
      " [-0.43171206  0.07397582  0.33168063  0.16122533  0.01508192  0.35938072\n",
      "  -0.10099246 -0.08821006]\n",
      " [-0.5657737   0.12406021 -0.1850852   0.01447107 -0.5924709  -0.5643914\n",
      "  -0.24445656  0.65408033]\n",
      " [-0.5657737   0.12406021 -0.1850852   0.01447107 -0.5924709  -0.5643914\n",
      "  -0.24445656  0.65408033]\n",
      " [-0.57217336  0.16981246  0.14570016 -0.04349237  0.5062161   0.1347034\n",
      "   0.18825646 -0.07526813]\n",
      " [-0.43171206  0.07397582  0.33168063  0.16122533  0.01508192  0.35938072\n",
      "  -0.10099246 -0.08821006]\n",
      " [-0.43171206  0.07397582  0.33168063  0.16122533  0.01508192  0.35938072\n",
      "  -0.10099246 -0.08821006]\n",
      " [-0.43171206  0.07397582  0.33168063  0.16122533  0.01508192  0.35938072\n",
      "  -0.10099246 -0.08821006]\n",
      " [-0.5657737   0.12406021 -0.1850852   0.01447107 -0.5924709  -0.5643914\n",
      "  -0.24445656  0.65408033]\n",
      " [-0.5657737   0.12406021 -0.1850852   0.01447107 -0.5924709  -0.5643914\n",
      "  -0.24445656  0.65408033]\n",
      " [ 0.64852875 -0.55824065 -0.3292836  -0.5071193  -0.42258957 -0.11369707\n",
      "  -0.14345281  0.11797766]\n",
      " [ 0.09580825 -0.11744761  0.00901017 -0.19822109  0.26425785  0.14889078\n",
      "  -0.02943225 -0.49779806]\n",
      " [-0.43171206  0.07397582  0.33168063  0.16122533  0.01508192  0.35938072\n",
      "  -0.10099246 -0.08821006]\n",
      " [ 0.01878762  0.09260663  0.07527107 -0.407983    0.45608592  0.17491882\n",
      "   0.12995842  0.06950979]\n",
      " [-0.43171206  0.07397582  0.33168063  0.16122533  0.01508192  0.35938072\n",
      "  -0.10099246 -0.08821006]\n",
      " [ 0.26306653 -0.39402372 -0.06099903 -0.12175759 -0.32476297  0.21029556\n",
      "  -0.06142831 -0.01256341]\n",
      " [ 0.64852875 -0.55824065 -0.3292836  -0.5071193  -0.42258957 -0.11369707\n",
      "  -0.14345281  0.11797766]\n",
      " [-0.43171206  0.07397582  0.33168063  0.16122533  0.01508192  0.35938072\n",
      "  -0.10099246 -0.08821006]\n",
      " [ 0.64852875 -0.55824065 -0.3292836  -0.5071193  -0.42258957 -0.11369707\n",
      "  -0.14345281  0.11797766]\n",
      " [ 0.64852875 -0.55824065 -0.3292836  -0.5071193  -0.42258957 -0.11369707\n",
      "  -0.14345281  0.11797766]\n",
      " [ 0.35592094  0.5705412  -0.43406376 -0.06419814 -0.6005973   0.4149357\n",
      "  -0.28939497 -0.3668281 ]]\n"
     ]
    }
   ],
   "source": [
    "# Embedding Columns: In datasets where we have huge numbers of categories it becomes infeasible to train with \n",
    "# One-Hot encoding because the dataset will be too large.\n",
    "# We cab use embedding where we represent the one-hot vector as a dense lower dimensional vector where the values\n",
    "# are not limited to binary. \n",
    "# The embedding size is a hyperparameter worth tuning\n",
    "breed1 = feature_column.categorical_column_with_vocabulary_list('Breed1', df.Breed1.unique())\n",
    "breed1_embedding = feature_column.embedding_column(breed1, dimension=8)\n",
    "test_ft(breed1_embedding)"
   ]
  },
  {
   "cell_type": "code",
   "execution_count": 13,
   "metadata": {},
   "outputs": [
    {
     "name": "stdout",
     "output_type": "stream",
     "text": [
      "[[1. 0. 0. 0. 0. 0. 0. 0. 0. 0.]\n",
      " [0. 0. 0. 0. 0. 0. 0. 0. 0. 1.]\n",
      " [0. 0. 0. 0. 0. 0. 1. 0. 0. 0.]\n",
      " [0. 0. 0. 0. 0. 0. 0. 0. 0. 1.]\n",
      " [0. 0. 0. 0. 0. 0. 0. 1. 0. 0.]\n",
      " [0. 0. 0. 0. 0. 0. 0. 1. 0. 0.]\n",
      " [0. 0. 0. 0. 0. 0. 0. 0. 0. 1.]\n",
      " [0. 0. 0. 0. 0. 0. 0. 0. 0. 1.]\n",
      " [0. 0. 0. 0. 0. 0. 0. 0. 0. 1.]\n",
      " [0. 0. 0. 0. 0. 0. 0. 1. 0. 0.]\n",
      " [0. 0. 1. 0. 0. 0. 0. 0. 0. 0.]\n",
      " [0. 0. 0. 0. 0. 0. 0. 1. 0. 0.]\n",
      " [0. 0. 0. 0. 0. 0. 0. 1. 0. 0.]\n",
      " [0. 0. 0. 0. 0. 0. 0. 0. 0. 1.]\n",
      " [0. 0. 0. 0. 0. 0. 0. 0. 0. 1.]\n",
      " [0. 1. 0. 0. 0. 0. 0. 0. 0. 0.]\n",
      " [0. 0. 0. 0. 0. 0. 0. 1. 0. 0.]\n",
      " [0. 0. 0. 0. 0. 0. 0. 1. 0. 0.]\n",
      " [0. 0. 0. 0. 0. 0. 0. 1. 0. 0.]\n",
      " [0. 0. 0. 0. 0. 0. 0. 0. 0. 1.]\n",
      " [0. 0. 0. 0. 0. 0. 0. 0. 0. 1.]\n",
      " [0. 0. 0. 0. 1. 0. 0. 0. 0. 0.]\n",
      " [0. 1. 0. 0. 0. 0. 0. 0. 0. 0.]\n",
      " [0. 0. 0. 0. 0. 0. 0. 1. 0. 0.]\n",
      " [0. 0. 1. 0. 0. 0. 0. 0. 0. 0.]\n",
      " [0. 0. 0. 0. 0. 0. 0. 1. 0. 0.]\n",
      " [0. 0. 1. 0. 0. 0. 0. 0. 0. 0.]\n",
      " [0. 0. 0. 0. 1. 0. 0. 0. 0. 0.]\n",
      " [0. 0. 0. 0. 0. 0. 0. 1. 0. 0.]\n",
      " [0. 0. 0. 0. 1. 0. 0. 0. 0. 0.]\n",
      " [0. 0. 0. 0. 1. 0. 0. 0. 0. 0.]\n",
      " [0. 0. 0. 0. 1. 0. 0. 0. 0. 0.]]\n"
     ]
    }
   ],
   "source": [
    "# Another way to represent catergoricals with lots of values is to use a hashed feature column\n",
    "# The feature column calculates a hash value for the input and then encodes the string into a bucket of a given size\n",
    "# This is good because you dont need the vocabulary and you can make the bucket_size much smaller than the number of categories\n",
    "breed1_hash = feature_column.categorical_column_with_hash_bucket('Breed1', hash_bucket_size=10)\n",
    "breed1_hash_ind = feature_column.indicator_column(breed1_hash)\n",
    "test_ft(breed1_hash_ind)"
   ]
  },
  {
   "cell_type": "code",
   "execution_count": 14,
   "metadata": {},
   "outputs": [
    {
     "name": "stdout",
     "output_type": "stream",
     "text": [
      "[[0. 0. 0. 0. 0. 0. 0. 0. 1. 0.]\n",
      " [0. 1. 0. 0. 0. 0. 0. 0. 0. 0.]\n",
      " [1. 0. 0. 0. 0. 0. 0. 0. 0. 0.]\n",
      " [1. 0. 0. 0. 0. 0. 0. 0. 0. 0.]\n",
      " [0. 1. 0. 0. 0. 0. 0. 0. 0. 0.]\n",
      " [0. 0. 0. 0. 0. 0. 0. 0. 1. 0.]\n",
      " [0. 0. 0. 1. 0. 0. 0. 0. 0. 0.]\n",
      " [1. 0. 0. 0. 0. 0. 0. 0. 0. 0.]\n",
      " [0. 0. 0. 1. 0. 0. 0. 0. 0. 0.]\n",
      " [0. 1. 0. 0. 0. 0. 0. 0. 0. 0.]\n",
      " [0. 0. 0. 0. 0. 0. 0. 0. 1. 0.]\n",
      " [0. 0. 0. 0. 0. 0. 1. 0. 0. 0.]\n",
      " [0. 0. 0. 0. 0. 0. 0. 0. 1. 0.]\n",
      " [1. 0. 0. 0. 0. 0. 0. 0. 0. 0.]\n",
      " [1. 0. 0. 0. 0. 0. 0. 0. 0. 0.]\n",
      " [0. 0. 0. 0. 0. 0. 0. 0. 1. 0.]\n",
      " [0. 0. 0. 0. 0. 0. 0. 0. 1. 0.]\n",
      " [0. 0. 0. 0. 0. 0. 1. 0. 0. 0.]\n",
      " [0. 0. 0. 0. 0. 0. 1. 0. 0. 0.]\n",
      " [0. 0. 0. 1. 0. 0. 0. 0. 0. 0.]\n",
      " [0. 0. 0. 1. 0. 0. 0. 0. 0. 0.]\n",
      " [0. 1. 0. 0. 0. 0. 0. 0. 0. 0.]\n",
      " [0. 0. 0. 0. 0. 0. 0. 0. 1. 0.]\n",
      " [0. 1. 0. 0. 0. 0. 0. 0. 0. 0.]\n",
      " [0. 0. 0. 0. 0. 0. 1. 0. 0. 0.]\n",
      " [0. 0. 0. 0. 0. 0. 1. 0. 0. 0.]\n",
      " [0. 0. 0. 0. 0. 0. 0. 0. 1. 0.]\n",
      " [1. 0. 0. 0. 0. 0. 0. 0. 0. 0.]\n",
      " [0. 1. 0. 0. 0. 0. 0. 0. 0. 0.]\n",
      " [1. 0. 0. 0. 0. 0. 0. 0. 0. 0.]\n",
      " [0. 1. 0. 0. 0. 0. 0. 0. 0. 0.]\n",
      " [0. 1. 0. 0. 0. 0. 0. 0. 0. 0.]]\n"
     ]
    }
   ],
   "source": [
    "# Crossed feature columns: By combining columns you can train the model on all the different data intersections\n",
    "# Allowing it to learn about the correlations between features more\n",
    "crossed_ft = feature_column.crossed_column([age_buckets, animal_type], hash_bucket_size=10)\n",
    "crossed_ft_ind = feature_column.indicator_column(crossed_ft)\n",
    "test_ft(crossed_ft_ind)"
   ]
  },
  {
   "cell_type": "markdown",
   "metadata": {},
   "source": [
    "## Chose which Feature Columns to use and In what type"
   ]
  },
  {
   "cell_type": "code",
   "execution_count": 15,
   "metadata": {},
   "outputs": [],
   "source": [
    "# In reality we should think abouyt which features are/aren't important and use a larger dataset\n",
    "feature_cols = []\n",
    "\n",
    "# Numeric\n",
    "for header in ['PhotoAmt', 'Fee', 'Age']:\n",
    "    feature_cols.append(feature_column.numeric_column(header))\n",
    "\n",
    "# Bucketised Cols\n",
    "age = feature_column.numeric_column('Age')\n",
    "age_buckets = feature_column.bucketized_column(age, boundaries=[1,2,3,4,5])\n",
    "feature_cols.append(age_buckets)\n",
    "\n",
    "# Indicator Cols\n",
    "indicator_cols = ['Type', 'Color1', 'Color2', 'Gender', 'MaturitySize', \n",
    "                  'FurLength', 'Vaccinated', 'Sterilized', 'Health']\n",
    "\n",
    "for col in indicator_cols:\n",
    "    cat_col = feature_column.categorical_column_with_vocabulary_list(col, df[col].unique())\n",
    "    ind_col = feature_column.indicator_column(cat_col)\n",
    "    feature_cols.append(ind_col)\n",
    "    \n",
    "# Embedding Cols\n",
    "breed1 = feature_column.categorical_column_with_vocabulary_list('Breed1', df.Breed1.unique())\n",
    "breed1_embedding = feature_column.embedding_column(breed1, dimension=8)\n",
    "feature_cols.append(breed1_embedding)\n",
    "\n",
    "# Crossed Cols\n",
    "animal_type = feature_column.categorical_column_with_vocabulary_list('Type', ['Cat', 'Dog'])\n",
    "age_type = feature_column.crossed_column([age_buckets, animal_type], hash_bucket_size=100)\n",
    "age_type_crossed = feature_column.indicator_column(age_type)\n",
    "feature_cols.append(age_type_crossed)"
   ]
  },
  {
   "cell_type": "code",
   "execution_count": 20,
   "metadata": {},
   "outputs": [
    {
     "data": {
      "text/plain": [
       "2"
      ]
     },
     "execution_count": 20,
     "metadata": {},
     "output_type": "execute_result"
    }
   ],
   "source": [
    "num_outputs = len(df['AdoptionSpeed'].unique())\n",
    "num_outputs"
   ]
  },
  {
   "cell_type": "code",
   "execution_count": 29,
   "metadata": {},
   "outputs": [
    {
     "name": "stdout",
     "output_type": "stream",
     "text": [
      "Epoch 1/100\n",
      "WARNING:tensorflow:Layers in a Sequential model should only have a single input tensor, but we receive a <class 'dict'> input: {'Type': <tf.Tensor 'ExpandDims_11:0' shape=(None, 1) dtype=string>, 'Age': <tf.Tensor 'ExpandDims:0' shape=(None, 1) dtype=int64>, 'Breed1': <tf.Tensor 'ExpandDims_1:0' shape=(None, 1) dtype=string>, 'Gender': <tf.Tensor 'ExpandDims_6:0' shape=(None, 1) dtype=string>, 'Color1': <tf.Tensor 'ExpandDims_2:0' shape=(None, 1) dtype=string>, 'Color2': <tf.Tensor 'ExpandDims_3:0' shape=(None, 1) dtype=string>, 'MaturitySize': <tf.Tensor 'ExpandDims_8:0' shape=(None, 1) dtype=string>, 'FurLength': <tf.Tensor 'ExpandDims_5:0' shape=(None, 1) dtype=string>, 'Vaccinated': <tf.Tensor 'ExpandDims_12:0' shape=(None, 1) dtype=string>, 'Sterilized': <tf.Tensor 'ExpandDims_10:0' shape=(None, 1) dtype=string>, 'Health': <tf.Tensor 'ExpandDims_7:0' shape=(None, 1) dtype=string>, 'Fee': <tf.Tensor 'ExpandDims_4:0' shape=(None, 1) dtype=int64>, 'PhotoAmt': <tf.Tensor 'ExpandDims_9:0' shape=(None, 1) dtype=int64>}\n",
      "Consider rewriting this model with the Functional API.\n",
      "WARNING:tensorflow:Layers in a Sequential model should only have a single input tensor, but we receive a <class 'dict'> input: {'Type': <tf.Tensor 'ExpandDims_11:0' shape=(None, 1) dtype=string>, 'Age': <tf.Tensor 'ExpandDims:0' shape=(None, 1) dtype=int64>, 'Breed1': <tf.Tensor 'ExpandDims_1:0' shape=(None, 1) dtype=string>, 'Gender': <tf.Tensor 'ExpandDims_6:0' shape=(None, 1) dtype=string>, 'Color1': <tf.Tensor 'ExpandDims_2:0' shape=(None, 1) dtype=string>, 'Color2': <tf.Tensor 'ExpandDims_3:0' shape=(None, 1) dtype=string>, 'MaturitySize': <tf.Tensor 'ExpandDims_8:0' shape=(None, 1) dtype=string>, 'FurLength': <tf.Tensor 'ExpandDims_5:0' shape=(None, 1) dtype=string>, 'Vaccinated': <tf.Tensor 'ExpandDims_12:0' shape=(None, 1) dtype=string>, 'Sterilized': <tf.Tensor 'ExpandDims_10:0' shape=(None, 1) dtype=string>, 'Health': <tf.Tensor 'ExpandDims_7:0' shape=(None, 1) dtype=string>, 'Fee': <tf.Tensor 'ExpandDims_4:0' shape=(None, 1) dtype=int64>, 'PhotoAmt': <tf.Tensor 'ExpandDims_9:0' shape=(None, 1) dtype=int64>}\n",
      "Consider rewriting this model with the Functional API.\n",
      "225/231 [============================>.] - ETA: 0s - loss: 0.8692 - accuracy: 0.6781WARNING:tensorflow:Layers in a Sequential model should only have a single input tensor, but we receive a <class 'dict'> input: {'Type': <tf.Tensor 'ExpandDims_11:0' shape=(None, 1) dtype=string>, 'Age': <tf.Tensor 'ExpandDims:0' shape=(None, 1) dtype=int64>, 'Breed1': <tf.Tensor 'ExpandDims_1:0' shape=(None, 1) dtype=string>, 'Gender': <tf.Tensor 'ExpandDims_6:0' shape=(None, 1) dtype=string>, 'Color1': <tf.Tensor 'ExpandDims_2:0' shape=(None, 1) dtype=string>, 'Color2': <tf.Tensor 'ExpandDims_3:0' shape=(None, 1) dtype=string>, 'MaturitySize': <tf.Tensor 'ExpandDims_8:0' shape=(None, 1) dtype=string>, 'FurLength': <tf.Tensor 'ExpandDims_5:0' shape=(None, 1) dtype=string>, 'Vaccinated': <tf.Tensor 'ExpandDims_12:0' shape=(None, 1) dtype=string>, 'Sterilized': <tf.Tensor 'ExpandDims_10:0' shape=(None, 1) dtype=string>, 'Health': <tf.Tensor 'ExpandDims_7:0' shape=(None, 1) dtype=string>, 'Fee': <tf.Tensor 'ExpandDims_4:0' shape=(None, 1) dtype=int64>, 'PhotoAmt': <tf.Tensor 'ExpandDims_9:0' shape=(None, 1) dtype=int64>}\n",
      "Consider rewriting this model with the Functional API.\n",
      "\n",
      "Epoch: 0, accuracy:0.6791,  loss:0.8641,  val_accuracy:0.7145,  val_loss:0.6499,  \n",
      "231/231 [==============================] - 1s 3ms/step - loss: 0.8641 - accuracy: 0.6791 - val_loss: 0.6499 - val_accuracy: 0.7145\n",
      "Epoch 2/100\n",
      "231/231 [==============================] - 0s 2ms/step - loss: 0.6748 - accuracy: 0.6961 - val_loss: 0.6099 - val_accuracy: 0.6961\n",
      "Epoch 3/100\n",
      "231/231 [==============================] - 0s 2ms/step - loss: 0.6302 - accuracy: 0.6973 - val_loss: 0.6062 - val_accuracy: 0.6766\n",
      "Epoch 4/100\n",
      "231/231 [==============================] - 0s 2ms/step - loss: 0.6053 - accuracy: 0.7168 - val_loss: 0.5766 - val_accuracy: 0.7362\n",
      "Epoch 5/100\n",
      "231/231 [==============================] - 0s 2ms/step - loss: 0.5864 - accuracy: 0.7207 - val_loss: 0.5744 - val_accuracy: 0.7151\n",
      "Epoch 6/100\n",
      "231/231 [==============================] - 0s 2ms/step - loss: 0.5783 - accuracy: 0.7195 - val_loss: 0.5696 - val_accuracy: 0.7156\n",
      "Epoch 7/100\n",
      "231/231 [==============================] - 0s 2ms/step - loss: 0.5648 - accuracy: 0.7368 - val_loss: 0.5658 - val_accuracy: 0.7161\n",
      "Epoch 8/100\n",
      "231/231 [==============================] - 0s 2ms/step - loss: 0.5577 - accuracy: 0.7330 - val_loss: 0.5540 - val_accuracy: 0.7421\n",
      "Epoch 9/100\n",
      "231/231 [==============================] - 0s 2ms/step - loss: 0.5526 - accuracy: 0.7345 - val_loss: 0.5515 - val_accuracy: 0.7161\n",
      "Epoch 10/100\n",
      "231/231 [==============================] - 0s 2ms/step - loss: 0.5420 - accuracy: 0.7398 - val_loss: 0.5477 - val_accuracy: 0.7124\n",
      "Epoch 11/100\n",
      "231/231 [==============================] - 0s 2ms/step - loss: 0.5370 - accuracy: 0.7375 - val_loss: 0.5449 - val_accuracy: 0.7459\n",
      "Epoch 12/100\n",
      "231/231 [==============================] - 0s 2ms/step - loss: 0.5371 - accuracy: 0.7395 - val_loss: 0.5458 - val_accuracy: 0.6907\n",
      "Epoch 13/100\n",
      "231/231 [==============================] - 0s 2ms/step - loss: 0.5305 - accuracy: 0.7371 - val_loss: 0.5365 - val_accuracy: 0.7302\n",
      "Epoch 14/100\n",
      "231/231 [==============================] - 0s 2ms/step - loss: 0.5230 - accuracy: 0.7428 - val_loss: 0.5318 - val_accuracy: 0.7319\n",
      "Epoch 15/100\n",
      "231/231 [==============================] - 0s 2ms/step - loss: 0.5211 - accuracy: 0.7410 - val_loss: 0.5401 - val_accuracy: 0.7221\n",
      "Epoch 16/100\n",
      "231/231 [==============================] - 0s 2ms/step - loss: 0.5185 - accuracy: 0.7406 - val_loss: 0.5351 - val_accuracy: 0.7378\n",
      "Epoch 17/100\n",
      "231/231 [==============================] - 0s 2ms/step - loss: 0.5136 - accuracy: 0.7451 - val_loss: 0.5284 - val_accuracy: 0.7378\n",
      "Epoch 18/100\n",
      "231/231 [==============================] - 0s 2ms/step - loss: 0.5131 - accuracy: 0.7462 - val_loss: 0.5256 - val_accuracy: 0.7286\n",
      "Epoch 19/100\n",
      "231/231 [==============================] - 0s 2ms/step - loss: 0.5089 - accuracy: 0.7478 - val_loss: 0.5226 - val_accuracy: 0.7454\n",
      "Epoch 20/100\n",
      "231/231 [==============================] - 0s 2ms/step - loss: 0.5072 - accuracy: 0.7502 - val_loss: 0.5334 - val_accuracy: 0.7470\n",
      "Epoch 21/100\n",
      "231/231 [==============================] - 0s 2ms/step - loss: 0.5058 - accuracy: 0.7509 - val_loss: 0.5205 - val_accuracy: 0.7286\n",
      "Epoch 22/100\n",
      "231/231 [==============================] - 0s 2ms/step - loss: 0.5042 - accuracy: 0.7493 - val_loss: 0.5193 - val_accuracy: 0.7281\n",
      "Epoch 23/100\n",
      "231/231 [==============================] - 0s 2ms/step - loss: 0.5013 - accuracy: 0.7493 - val_loss: 0.5227 - val_accuracy: 0.7221\n",
      "Epoch 24/100\n",
      "231/231 [==============================] - 0s 2ms/step - loss: 0.4979 - accuracy: 0.7473 - val_loss: 0.5230 - val_accuracy: 0.7340\n",
      "Epoch 25/100\n",
      "231/231 [==============================] - 0s 2ms/step - loss: 0.5006 - accuracy: 0.7513 - val_loss: 0.5188 - val_accuracy: 0.7400\n",
      "Epoch 26/100\n",
      "231/231 [==============================] - 0s 2ms/step - loss: 0.4963 - accuracy: 0.7534 - val_loss: 0.5253 - val_accuracy: 0.7216\n",
      "Epoch 27/100\n",
      "231/231 [==============================] - 0s 2ms/step - loss: 0.4947 - accuracy: 0.7502 - val_loss: 0.5196 - val_accuracy: 0.7384\n",
      "Epoch 28/100\n",
      "231/231 [==============================] - 0s 2ms/step - loss: 0.4929 - accuracy: 0.7515 - val_loss: 0.5206 - val_accuracy: 0.7389\n",
      "Epoch 29/100\n",
      "231/231 [==============================] - 0s 2ms/step - loss: 0.4945 - accuracy: 0.7531 - val_loss: 0.5222 - val_accuracy: 0.7335\n",
      "Epoch 30/100\n",
      "231/231 [==============================] - 0s 2ms/step - loss: 0.4934 - accuracy: 0.7506 - val_loss: 0.5173 - val_accuracy: 0.7449\n",
      "Epoch 31/100\n",
      "231/231 [==============================] - 0s 2ms/step - loss: 0.4942 - accuracy: 0.7567 - val_loss: 0.5197 - val_accuracy: 0.7264\n",
      "Epoch 32/100\n",
      "231/231 [==============================] - 0s 2ms/step - loss: 0.4908 - accuracy: 0.7563 - val_loss: 0.5195 - val_accuracy: 0.7329\n",
      "Epoch 33/100\n",
      "231/231 [==============================] - 0s 2ms/step - loss: 0.4882 - accuracy: 0.7580 - val_loss: 0.5190 - val_accuracy: 0.7367\n",
      "Epoch 34/100\n"
     ]
    },
    {
     "name": "stdout",
     "output_type": "stream",
     "text": [
      "231/231 [==============================] - 0s 2ms/step - loss: 0.4909 - accuracy: 0.7532 - val_loss: 0.5249 - val_accuracy: 0.7248\n",
      "Epoch 35/100\n",
      "231/231 [==============================] - 0s 2ms/step - loss: 0.4906 - accuracy: 0.7550 - val_loss: 0.5314 - val_accuracy: 0.7438\n",
      "Epoch 36/100\n",
      "231/231 [==============================] - 0s 2ms/step - loss: 0.4885 - accuracy: 0.7586 - val_loss: 0.5194 - val_accuracy: 0.7432\n",
      "Epoch 37/100\n",
      "231/231 [==============================] - 0s 2ms/step - loss: 0.4864 - accuracy: 0.7599 - val_loss: 0.5260 - val_accuracy: 0.7113\n",
      "Epoch 38/100\n",
      "231/231 [==============================] - 0s 2ms/step - loss: 0.4860 - accuracy: 0.7552 - val_loss: 0.5215 - val_accuracy: 0.7411\n",
      "Epoch 39/100\n",
      "231/231 [==============================] - 0s 2ms/step - loss: 0.4845 - accuracy: 0.7584 - val_loss: 0.5180 - val_accuracy: 0.7432\n",
      "Epoch 40/100\n",
      "231/231 [==============================] - 0s 2ms/step - loss: 0.4867 - accuracy: 0.7573 - val_loss: 0.5228 - val_accuracy: 0.7416\n",
      "Epoch 41/100\n",
      "231/231 [==============================] - 0s 2ms/step - loss: 0.4914 - accuracy: 0.7580 - val_loss: 0.5210 - val_accuracy: 0.7378\n",
      "Epoch 42/100\n",
      "231/231 [==============================] - 0s 2ms/step - loss: 0.4882 - accuracy: 0.7594 - val_loss: 0.5177 - val_accuracy: 0.7476\n",
      "Epoch 43/100\n",
      "231/231 [==============================] - 0s 2ms/step - loss: 0.4878 - accuracy: 0.7529 - val_loss: 0.5249 - val_accuracy: 0.7313\n",
      "Epoch 44/100\n",
      "231/231 [==============================] - 0s 2ms/step - loss: 0.4852 - accuracy: 0.7576 - val_loss: 0.5243 - val_accuracy: 0.7270\n",
      "Epoch 45/100\n",
      "231/231 [==============================] - 0s 2ms/step - loss: 0.4850 - accuracy: 0.7611 - val_loss: 0.5286 - val_accuracy: 0.7432\n"
     ]
    }
   ],
   "source": [
    "# Now we have defined features, use a densefeatures layer to input them to the model\n",
    "feature_layer = tf.keras.layers.DenseFeatures(feature_cols)\n",
    "reg = 0.001\n",
    "do = 0.2\n",
    "epochs = 100\n",
    "\n",
    "import tensorflow_docs as tfdocs\n",
    "import tensorflow_docs.modeling\n",
    "\n",
    "def get_callbacks():\n",
    "    return [\n",
    "        tfdocs.modeling.EpochDots(), # <= prints full logs every 100 epochs and . for the rest\n",
    "        tf.keras.callbacks.EarlyStopping(monitor='val_loss', patience=15)]\n",
    "\n",
    "model = tf.keras.Sequential([\n",
    "    feature_layer,\n",
    "    layers.Dense(128, activation='relu', kernel_regularizer=tf.keras.regularizers.l2(reg)),\n",
    "    layers.Dropout(do),\n",
    "    layers.Dense(128, activation='relu', kernel_regularizer=tf.keras.regularizers.l2(reg)),\n",
    "    layers.Dropout(do),\n",
    "    layers.Dense(num_outputs - 1)  \n",
    "])\n",
    "\n",
    "model.compile(optimizer='adam',\n",
    "              loss=tf.keras.losses.BinaryCrossentropy(from_logits=True),\n",
    "              metrics=['accuracy'])\n",
    "\n",
    "history = model.fit(train_ds,\n",
    "          validation_data=val_ds,\n",
    "          epochs=epochs,\n",
    "          callbacks=get_callbacks())"
   ]
  },
  {
   "cell_type": "code",
   "execution_count": 30,
   "metadata": {},
   "outputs": [
    {
     "data": {
      "image/png": "[encoded data removed]",
      "text/plain": [
       "<Figure size 432x288 with 1 Axes>"
      ]
     },
     "metadata": {
      "needs_background": "light"
     },
     "output_type": "display_data"
    }
   ],
   "source": [
    "from matplotlib import pyplot as plt\n",
    "def plot_metrics(history, metric):\n",
    "    met = history[metric]\n",
    "    val_metric = history[('val_' + metric)]\n",
    "    epochs = range(1, len(met) + 1)\n",
    "    \n",
    "    plt.plot(epochs, met, 'b', label=('Training ' + metric))\n",
    "    plt.plot(epochs, val_metric, 'r', label=('Validation ' + metric))\n",
    "    plt.title('Training and Validation ' + metric)\n",
    "    plt.xlabel('Epochs')\n",
    "    plt.ylabel(metric)\n",
    "    plt.show()\n",
    "\n",
    "plot_metrics(history.history, 'loss')    "
   ]
  },
  {
   "cell_type": "code",
   "execution_count": 31,
   "metadata": {},
   "outputs": [
    {
     "data": {
      "image/png": "[encoded data removed]",
      "text/plain": [
       "<Figure size 432x288 with 1 Axes>"
      ]
     },
     "metadata": {
      "needs_background": "light"
     },
     "output_type": "display_data"
    }
   ],
   "source": [
    "plot_metrics(history.history, 'accuracy')"
   ]
  },
  {
   "cell_type": "code",
   "execution_count": 32,
   "metadata": {},
   "outputs": [
    {
     "name": "stdout",
     "output_type": "stream",
     "text": [
      "73/73 [==============================] - 0s 1ms/step - loss: 0.5368 - accuracy: 0.7379\n",
      "Accuracy 0.7378683090209961\n"
     ]
    }
   ],
   "source": [
    "loss, accuracy = model.evaluate(test_ds)\n",
    "print(\"Accuracy\", accuracy)"
   ]
  },
  {
   "cell_type": "markdown",
   "metadata": {},
   "source": [
    "This model is inaccurate and performs poorly due to the fact it is a small dataset with not many features, it woul dbe better to use a decision tree or random forrest for something like this."
   ]
  },
  {
   "cell_type": "code",
   "execution_count": null,
   "metadata": {},
   "outputs": [],
   "source": []
  }
 ],
 "metadata": {
  "kernelspec": {
   "display_name": "Python 3",
   "language": "python",
   "name": "python3"
  },
  "language_info": {
   "codemirror_mode": {
    "name": "ipython",
    "version": 3
   },
   "file_extension": ".py",
   "mimetype": "text/x-python",
   "name": "python",
   "nbconvert_exporter": "python",
   "pygments_lexer": "ipython3",
   "version": "3.7.6"
  }
 },
 "nbformat": 4,
 "nbformat_minor": 4
}
