{
 "cells": [
  {
   "cell_type": "code",
   "execution_count": 1,
   "metadata": {},
   "outputs": [
    {
     "name": "stdout",
     "output_type": "stream",
     "text": [
      "2.3.1\n"
     ]
    }
   ],
   "source": [
    "import matplotlib.pyplot as plt\n",
    "import os\n",
    "import re\n",
    "import shutil\n",
    "import string\n",
    "import tensorflow as tf\n",
    "\n",
    "from tensorflow.keras import layers\n",
    "from tensorflow.keras import losses\n",
    "from tensorflow.keras import preprocessing\n",
    "from tensorflow.keras.layers.experimental.preprocessing import TextVectorization\n",
    "\n",
    "print(tf.__version__)"
   ]
  },
  {
   "cell_type": "code",
   "execution_count": 2,
   "metadata": {},
   "outputs": [
    {
     "name": "stdout",
     "output_type": "stream",
     "text": [
      "Downloading data from https://ai.stanford.edu/~amaas/data/sentiment/aclImdb_v1.tar.gz\n",
      "84131840/84125825 [==============================] - 16s 0us/step\n"
     ]
    }
   ],
   "source": [
    "# Download movie review training set\n",
    "url = \"https://ai.stanford.edu/~amaas/data/sentiment/aclImdb_v1.tar.gz\"\n",
    "dataset = tf.keras.utils.get_file(\"aclImdb_v1.tar.gz\", url, untar=True, cache_dir='', cache_subdir='')"
   ]
  },
  {
   "cell_type": "code",
   "execution_count": 17,
   "metadata": {},
   "outputs": [
    {
     "data": {
      "text/plain": [
       "['urls_unsup.txt',\n",
       " 'neg',\n",
       " 'urls_pos.txt',\n",
       " 'urls_neg.txt',\n",
       " 'pos',\n",
       " 'unsupBow.feat',\n",
       " 'labeledBow.feat']"
      ]
     },
     "execution_count": 17,
     "metadata": {},
     "output_type": "execute_result"
    }
   ],
   "source": [
    "# Acces training folder, neg = negative reviews, pos = positive reviews\n",
    "dataset_dir = os.path.join(os.path.dirname(dataset), 'aclImdb')\n",
    "train_dir = os.path.join(dataset_dir, 'train')\n",
    "test_dir = os.path.join(dataset_dir, 'test')\n",
    "os.listdir(train_dir)"
   ]
  },
  {
   "cell_type": "code",
   "execution_count": 18,
   "metadata": {},
   "outputs": [
    {
     "name": "stdout",
     "output_type": "stream",
     "text": [
      "Rachel Griffiths writes and directs this award winning short film. A heartwarming story about coping with grief and cherishing the memory of those we've loved and lost. Although, only 15 minutes long, Griffiths manages to capture so much emotion and truth onto film in the short space of time. Bud Tingwell gives a touching performance as Will, a widower struggling to cope with his wife's death. Will is confronted by the harsh reality of loneliness and helplessness as he proceeds to take care of Ruth's pet cow, Tulip. The film displays the grief and responsibility one feels for those they have loved and lost. Good cinematography, great direction, and superbly acted. It will bring tears to all those who have lost a loved one, and survived.\n"
     ]
    }
   ],
   "source": [
    "# View a review\n",
    "sample = os.path.join(train_dir, 'pos/1181_9.txt')\n",
    "with open(sample) as f:\n",
    "    print(f.read())"
   ]
  },
  {
   "cell_type": "code",
   "execution_count": 19,
   "metadata": {},
   "outputs": [
    {
     "name": "stdout",
     "output_type": "stream",
     "text": [
      "Found 25000 files belonging to 2 classes.\n",
      "Using 20000 files for training.\n",
      "Found 25000 files belonging to 2 classes.\n",
      "Using 5000 files for validation.\n",
      "Found 25000 files belonging to 2 classes.\n"
     ]
    }
   ],
   "source": [
    "# For binary test classification we can use the text_dataset_from_diretcory which requires a structure \n",
    "# which is like: maindir/class_a/a_text and maindir/class_b/b_text. We need to clean the directory\n",
    "\n",
    "# remove_dir = os.path.join(train_dir, 'unsup')\n",
    "# shutil.rmtree(remove_dir)\n",
    "\n",
    "# Best practice is to have Train/Test/Validate sets. IMDB already has Train/Test so make a Validate\n",
    "\n",
    "batch_size = 32\n",
    "seed = 42\n",
    "\n",
    "raw_train_ds = tf.keras.preprocessing.text_dataset_from_directory(\n",
    "    train_dir, \n",
    "    batch_size=batch_size, \n",
    "    validation_split=0.2,\n",
    "    subset='training',\n",
    "    seed=seed)\n",
    "\n",
    "raw_val_ds = tf.keras.preprocessing.text_dataset_from_directory(\n",
    "    train_dir, \n",
    "    batch_size=batch_size, \n",
    "    validation_split=0.2,\n",
    "    subset='validation',\n",
    "    seed=seed)\n",
    "\n",
    "raw_test_ds = tf.keras.preprocessing.text_dataset_from_directory(test_dir, batch_size=batch_size) "
   ]
  },
  {
   "cell_type": "markdown",
   "metadata": {},
   "source": [
    "# PreProcess Data"
   ]
  },
  {
   "cell_type": "code",
   "execution_count": 27,
   "metadata": {},
   "outputs": [],
   "source": [
    "# We need to standardise, tokenis and vectorise the data. Like in the NLP training\n",
    "# define custom standardisation fn for cleaning html\n",
    "def html_strip(input_data):\n",
    "    lowercase = tf.strings.lower(input_data)\n",
    "    stripped_html = tf.strings.regex_replace(lowercase, '<br />', ' ')\n",
    "    stripped_html = tf.strings.regex_replace(stripped_html, '[%s]' % re.escape(string.punctuation), '')\n",
    "    return stripped_html\n",
    "\n",
    "# Create text vectorisation layer\n",
    "max_features = 10000\n",
    "sequence_length = 250\n",
    "\n",
    "vectorise_layer = TextVectorization(standardize=html_strip, \n",
    "                                    max_tokens=max_features, \n",
    "                                    output_mode='int', # creates a unique integer value for each token\n",
    "                                    output_sequence_length=sequence_length)\n",
    "\n",
    "\n",
    "# Make a text only dataset without laebls and then use adapt to apply the vectorisation\n",
    "train_text = raw_train_ds.map(lambda x, y: x)\n",
    "vectorise_layer.adapt(train_text)\n"
   ]
  },
  {
   "cell_type": "code",
   "execution_count": 28,
   "metadata": {},
   "outputs": [
    {
     "name": "stdout",
     "output_type": "stream",
     "text": [
      "Review tf.Tensor(b'Belmondo is a tough cop. He goes after a big-time drug dealer (played by Henry Silva, normally a great villain - see \"Sharky\\'s Machine\"; but here he is clearly dubbed, and because of that he lacks his usual charisma). He goes to the scuzziest places of Paris and Marseilles, asks for some names, beats up some people, gets the names, goes to more scuzzy places, asks for more names, beats up more people, etc. The whole movie is punch after punch after punch. It seems that the people who made it had no other ambition than to create the French equivalent of \"Dirty Harry\". Belmondo, who was 50 here, does perform some good stunts at the beginning; apart from those, \"Le Marginal\" is a violent, episodic, trite, shallow and forgettable cop movie. (*1/2)', shape=(), dtype=string)\n",
      "Label neg\n",
      "Vectorised review (<tf.Tensor: shape=(1, 250), dtype=int64, numpy=\n",
      "array([[   1,    7,    4, 1233, 1021,   27,  261,  101,    4,    1, 1525,\n",
      "        6992,  248,   32, 1488,    1, 1659,    4,   86, 1011,   67,    1,\n",
      "        1707,   18,  128,   27,    7,  688, 2396,    3,   84,    5,   12,\n",
      "          27, 1453,   24,  616, 3314,   27,  261,    6,    2,    1, 1329,\n",
      "           5, 1371,    3,    1, 1581,   15,   46, 1356, 3612,   56,   46,\n",
      "          79,  201,    2, 1356,  261,    6,   50,    1, 1329, 1581,   15,\n",
      "          50, 1356, 3612,   56,   50,   79,  532,    2,  211,   17,    7,\n",
      "        2851,  101, 2851,  101, 2851,    9,  180,   12,    2,   79,   36,\n",
      "          90,    9,   66,   57,   78, 5415,   70,    6,  916,    2,  800,\n",
      "        4891,    5, 1678, 1347,    1,   36,   13, 1732,  128,  120, 3078,\n",
      "          46,   49, 3274,   31,    2,  435,  948,   35,  143, 3519,    1,\n",
      "           7,    4, 1097, 9578, 3092, 2056,    3, 2512, 1021,   17, 1105,\n",
      "           0,    0,    0,    0,    0,    0,    0,    0,    0,    0,    0,\n",
      "           0,    0,    0,    0,    0,    0,    0,    0,    0,    0,    0,\n",
      "           0,    0,    0,    0,    0,    0,    0,    0,    0,    0,    0,\n",
      "           0,    0,    0,    0,    0,    0,    0,    0,    0,    0,    0,\n",
      "           0,    0,    0,    0,    0,    0,    0,    0,    0,    0,    0,\n",
      "           0,    0,    0,    0,    0,    0,    0,    0,    0,    0,    0,\n",
      "           0,    0,    0,    0,    0,    0,    0,    0,    0,    0,    0,\n",
      "           0,    0,    0,    0,    0,    0,    0,    0,    0,    0,    0,\n",
      "           0,    0,    0,    0,    0,    0,    0,    0,    0,    0,    0,\n",
      "           0,    0,    0,    0,    0,    0,    0,    0,    0,    0,    0,\n",
      "           0,    0,    0,    0,    0,    0,    0,    0]])>, <tf.Tensor: shape=(), dtype=int32, numpy=0>)\n"
     ]
    }
   ],
   "source": [
    "# View processed data\n",
    "def vectorise_text(text, label):\n",
    "    text = tf.expand_dims(text, -1)\n",
    "    return vectorise_layer(text), label\n",
    "\n",
    "# retrieve a batch (of 32 reviews and labels) from the dataset\n",
    "text_batch, label_batch = next(iter(raw_train_ds))\n",
    "first_review, first_label = text_batch[0], label_batch[0]\n",
    "print(\"Review\", first_review)\n",
    "print(\"Label\", raw_train_ds.class_names[first_label])\n",
    "print(\"Vectorised review\", vectorise_text(first_review, first_label))"
   ]
  },
  {
   "cell_type": "code",
   "execution_count": 30,
   "metadata": {},
   "outputs": [
    {
     "name": "stdout",
     "output_type": "stream",
     "text": [
      "1287 --->  silent\n",
      " 313 --->  night\n",
      "Vocabulary size: 10000\n"
     ]
    }
   ],
   "source": [
    "# View word vectors, using get_vocabulary()\n",
    "print(\"1287 ---> \",vectorise_layer.get_vocabulary()[1287])\n",
    "print(\" 313 ---> \",vectorise_layer.get_vocabulary()[313])\n",
    "print('Vocabulary size: {}'.format(len(vectorise_layer.get_vocabulary())))"
   ]
  },
  {
   "cell_type": "code",
   "execution_count": 31,
   "metadata": {},
   "outputs": [],
   "source": [
    "# Apply vectorisation to all data sets\n",
    "train_ds = raw_train_ds.map(vectorise_text)\n",
    "val_ds = raw_val_ds.map(vectorise_text)\n",
    "test_ds = raw_test_ds.map(vectorise_text)"
   ]
  },
  {
   "cell_type": "code",
   "execution_count": 32,
   "metadata": {},
   "outputs": [],
   "source": [
    "# Configure for performance: cache data in memory, and prefetch data so preprocessing and training overlap\n",
    "AUTOTUNE = tf.data.experimental.AUTOTUNE\n",
    "train_ds = train_ds.cache().prefetch(buffer_size=AUTOTUNE)\n",
    "val_ds = val_ds.cache().prefetch(buffer_size=AUTOTUNE)\n",
    "test_ds = test_ds.cache().prefetch(buffer_size=AUTOTUNE)"
   ]
  },
  {
   "cell_type": "code",
   "execution_count": 35,
   "metadata": {},
   "outputs": [
    {
     "name": "stdout",
     "output_type": "stream",
     "text": [
      "Model: \"sequential_1\"\n",
      "_________________________________________________________________\n",
      "Layer (type)                 Output Shape              Param #   \n",
      "=================================================================\n",
      "embedding_1 (Embedding)      (None, None, 16)          160016    \n",
      "_________________________________________________________________\n",
      "dropout_2 (Dropout)          (None, None, 16)          0         \n",
      "_________________________________________________________________\n",
      "global_average_pooling1d_1 ( (None, 16)                0         \n",
      "_________________________________________________________________\n",
      "dropout_3 (Dropout)          (None, 16)                0         \n",
      "_________________________________________________________________\n",
      "dense_1 (Dense)              (None, 1)                 17        \n",
      "=================================================================\n",
      "Total params: 160,033\n",
      "Trainable params: 160,033\n",
      "Non-trainable params: 0\n",
      "_________________________________________________________________\n"
     ]
    }
   ],
   "source": [
    "# Create the model\n",
    "embedding_dim = 16\n",
    "\n",
    "model = tf.keras.Sequential([\n",
    "    layers.Embedding(max_features + 1, embedding_dim), # Creates a vector that represents the input in a continuous vector space\n",
    "    layers.Dropout(0.2),\n",
    "    layers.GlobalAveragePooling1D(), # Converts to a fixed length output vector, to generalise to different length texts\n",
    "    layers.Dropout(0.2),\n",
    "    layers.Dense(1) # Densely connects the intermediate layers to a single output node\n",
    "])\n",
    "\n",
    "model.compile(loss=losses.BinaryCrossentropy(from_logits=True), # This is a Binary classificiation problem so we use a binary loss fn\n",
    "              optimizer='adam',\n",
    "              metrics=tf.metrics.BinaryAccuracy(threshold=0.0))\n",
    "\n",
    "model.summary()"
   ]
  },
  {
   "cell_type": "code",
   "execution_count": 37,
   "metadata": {},
   "outputs": [
    {
     "name": "stdout",
     "output_type": "stream",
     "text": [
      "Epoch 1/15\n",
      "625/625 [==============================] - 89s 143ms/step - loss: 0.6636 - binary_accuracy: 0.6902 - val_loss: 0.6136 - val_binary_accuracy: 0.7754\n",
      "Epoch 2/15\n",
      "625/625 [==============================] - 1s 2ms/step - loss: 0.5474 - binary_accuracy: 0.8008 - val_loss: 0.4972 - val_binary_accuracy: 0.8224\n",
      "Epoch 3/15\n",
      "625/625 [==============================] - 1s 2ms/step - loss: 0.4439 - binary_accuracy: 0.8443 - val_loss: 0.4196 - val_binary_accuracy: 0.8464\n",
      "Epoch 4/15\n",
      "625/625 [==============================] - 1s 2ms/step - loss: 0.3777 - binary_accuracy: 0.8659 - val_loss: 0.3732 - val_binary_accuracy: 0.8598\n",
      "Epoch 5/15\n",
      "625/625 [==============================] - 1s 2ms/step - loss: 0.3351 - binary_accuracy: 0.8795 - val_loss: 0.3451 - val_binary_accuracy: 0.8676\n",
      "Epoch 6/15\n",
      "625/625 [==============================] - 1s 2ms/step - loss: 0.3048 - binary_accuracy: 0.8896 - val_loss: 0.3263 - val_binary_accuracy: 0.8710\n",
      "Epoch 7/15\n",
      "625/625 [==============================] - 1s 2ms/step - loss: 0.2819 - binary_accuracy: 0.8972 - val_loss: 0.3128 - val_binary_accuracy: 0.8732\n",
      "Epoch 8/15\n",
      "625/625 [==============================] - 1s 2ms/step - loss: 0.2615 - binary_accuracy: 0.9047 - val_loss: 0.3033 - val_binary_accuracy: 0.8758\n",
      "Epoch 9/15\n",
      "625/625 [==============================] - 1s 2ms/step - loss: 0.2450 - binary_accuracy: 0.9100 - val_loss: 0.2966 - val_binary_accuracy: 0.8794\n",
      "Epoch 10/15\n",
      "625/625 [==============================] - 1s 2ms/step - loss: 0.2310 - binary_accuracy: 0.9165 - val_loss: 0.2920 - val_binary_accuracy: 0.8796\n",
      "Epoch 11/15\n",
      "625/625 [==============================] - 1s 2ms/step - loss: 0.2193 - binary_accuracy: 0.9201 - val_loss: 0.2888 - val_binary_accuracy: 0.8806\n",
      "Epoch 12/15\n",
      "625/625 [==============================] - 1s 2ms/step - loss: 0.2072 - binary_accuracy: 0.9240 - val_loss: 0.2875 - val_binary_accuracy: 0.8812\n",
      "Epoch 13/15\n",
      "625/625 [==============================] - 1s 2ms/step - loss: 0.1969 - binary_accuracy: 0.9298 - val_loss: 0.2864 - val_binary_accuracy: 0.8818\n",
      "Epoch 14/15\n",
      "625/625 [==============================] - 1s 2ms/step - loss: 0.1886 - binary_accuracy: 0.9344 - val_loss: 0.2866 - val_binary_accuracy: 0.8814\n",
      "Epoch 15/15\n",
      "625/625 [==============================] - 1s 2ms/step - loss: 0.1791 - binary_accuracy: 0.9396 - val_loss: 0.2872 - val_binary_accuracy: 0.8820\n"
     ]
    }
   ],
   "source": [
    "# Train the model\n",
    "epochs = 15\n",
    "history = model.fit(train_ds, validation_data=val_ds, epochs=epochs)"
   ]
  },
  {
   "cell_type": "code",
   "execution_count": 38,
   "metadata": {},
   "outputs": [
    {
     "name": "stdout",
     "output_type": "stream",
     "text": [
      "782/782 [==============================] - 84s 107ms/step - loss: 0.3112 - binary_accuracy: 0.8738\n",
      "Loss: 0.31115052103996277\n",
      "Accuracy: 0.8737599849700928\n"
     ]
    }
   ],
   "source": [
    "# Evaluate the model\n",
    "loss, accuracy = model.evaluate(test_ds)\n",
    "\n",
    "print(f'Loss: {loss}')\n",
    "print(f'Accuracy: {accuracy}')"
   ]
  },
  {
   "cell_type": "markdown",
   "metadata": {},
   "source": [
    "### model.fit() returns a history object  which contains a dict of the parameters vs time so you can see hows its changed through training, with an entry for each monitored metric"
   ]
  },
  {
   "cell_type": "code",
   "execution_count": 39,
   "metadata": {},
   "outputs": [
    {
     "data": {
      "text/plain": [
       "dict_keys(['loss', 'binary_accuracy', 'val_loss', 'val_binary_accuracy'])"
      ]
     },
     "execution_count": 39,
     "metadata": {},
     "output_type": "execute_result"
    }
   ],
   "source": [
    "hist = history.history\n",
    "hist.keys()"
   ]
  },
  {
   "cell_type": "code",
   "execution_count": 43,
   "metadata": {},
   "outputs": [
    {
     "data": {
      "image/png": "[encoded data removed]",
      "text/plain": [
       "<Figure size 432x288 with 1 Axes>"
      ]
     },
     "metadata": {
      "needs_background": "light"
     },
     "output_type": "display_data"
    }
   ],
   "source": [
    "acc = hist['binary_accuracy']\n",
    "val_acc = hist['val_binary_accuracy']\n",
    "loss = hist['loss']\n",
    "val_loss = hist['val_loss']\n",
    "\n",
    "epochs = range(1, len(acc) + 1)\n",
    "\n",
    "plt.plot(epochs, loss, 'bo', label='Training Loss')\n",
    "plt.plot(epochs, val_loss, 'b', label='Validation Loss')\n",
    "plt.title('Training and Validation loss')\n",
    "plt.xlabel('Epochs')\n",
    "plt.ylabel('Loss')\n",
    "plt.show()"
   ]
  },
  {
   "cell_type": "code",
   "execution_count": 42,
   "metadata": {},
   "outputs": [
    {
     "data": {
      "image/png": "[encoded data removed]",
      "text/plain": [
       "<Figure size 432x288 with 1 Axes>"
      ]
     },
     "metadata": {
      "needs_background": "light"
     },
     "output_type": "display_data"
    }
   ],
   "source": [
    "plt.plot(epochs, acc, 'bo', label='Training Accuracy')\n",
    "plt.plot(epochs, val_acc, 'b', label='Validation Accuracy')\n",
    "plt.title('Training and Validation Accuracy')\n",
    "plt.xlabel('Epochs')\n",
    "plt.ylabel('Accuracy')\n",
    "plt.show()"
   ]
  },
  {
   "cell_type": "markdown",
   "metadata": {},
   "source": [
    "We can see that the validation plateuas before the training for both loss and accuracy, this indicates overfitting again. See: https://www.tensorflow.org/tutorials/keras/overfit_and_underfit"
   ]
  },
  {
   "cell_type": "markdown",
   "metadata": {},
   "source": [
    "## Convert to a raw string model by including the vectorisation layer in the model"
   ]
  },
  {
   "cell_type": "code",
   "execution_count": 45,
   "metadata": {},
   "outputs": [
    {
     "name": "stdout",
     "output_type": "stream",
     "text": [
      "782/782 [==============================] - 82s 104ms/step - loss: 0.5816 - accuracy: 0.8738\n",
      "0.8737599849700928\n"
     ]
    }
   ],
   "source": [
    "raw_string_model = tf.keras.Sequential([\n",
    "    vectorise_layer,\n",
    "    model,\n",
    "    layers.Activation('sigmoid')\n",
    "])\n",
    "\n",
    "raw_string_model.compile(\n",
    "    loss=losses.BinaryCrossentropy(from_logits='False'), optimizer='adam', metrics=['accuracy']\n",
    ")\n",
    "\n",
    "loss, accuracy = raw_string_model.evaluate(raw_test_ds)\n",
    "print(accuracy)"
   ]
  },
  {
   "cell_type": "code",
   "execution_count": 46,
   "metadata": {},
   "outputs": [
    {
     "data": {
      "text/plain": [
       "array([[0.77139705],\n",
       "       [0.11604765]], dtype=float32)"
      ]
     },
     "execution_count": 46,
     "metadata": {},
     "output_type": "execute_result"
    }
   ],
   "source": [
    "examples = ['this movie was amazing, best movie ever ever ever',\n",
    "            'this movie was fucking awful, why would anyone ver make this piece of rubbish']\n",
    "\n",
    "raw_string_model.predict(examples)"
   ]
  },
  {
   "cell_type": "code",
   "execution_count": null,
   "metadata": {},
   "outputs": [],
   "source": []
  }
 ],
 "metadata": {
  "kernelspec": {
   "display_name": "Python 3",
   "language": "python",
   "name": "python3"
  },
  "language_info": {
   "codemirror_mode": {
    "name": "ipython",
    "version": 3
   },
   "file_extension": ".py",
   "mimetype": "text/x-python",
   "name": "python",
   "nbconvert_exporter": "python",
   "pygments_lexer": "ipython3",
   "version": "3.7.6"
  }
 },
 "nbformat": 4,
 "nbformat_minor": 4
}
